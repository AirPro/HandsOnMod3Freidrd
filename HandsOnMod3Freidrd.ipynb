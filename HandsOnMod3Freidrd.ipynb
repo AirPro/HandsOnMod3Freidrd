{
  "nbformat": 4,
  "nbformat_minor": 0,
  "metadata": {
    "colab": {
      "provenance": [],
      "authorship_tag": "ABX9TyNgbJOdua0YxiBT0wQknQCl",
      "include_colab_link": true
    },
    "kernelspec": {
      "name": "python3",
      "display_name": "Python 3"
    },
    "language_info": {
      "name": "python"
    }
  },
  "cells": [
    {
      "cell_type": "markdown",
      "metadata": {
        "id": "view-in-github",
        "colab_type": "text"
      },
      "source": [
        "<a href=\"https://colab.research.google.com/github/AirPro/HandsOnMod3Freidrd/blob/main/HandsOnMod3Freidrd.ipynb\" target=\"_parent\"><img src=\"https://colab.research.google.com/assets/colab-badge.svg\" alt=\"Open In Colab\"/></a>"
      ]
    },
    {
      "cell_type": "markdown",
      "source": [
        "# Module 3 Hands On Assignment By: Robert Freid\n",
        "It is in the hands-on. You need to watch the section 5 in the LinkedIn course which link is provided in the hands-on section. So, section 5 has different subtopic video list, you need to repeat exactly what has been done in these videos but using Google Colab.\n",
        "The title of these subsections:\n",
        "\n",
        "* Using a pre-trained network for object recognition\n",
        "* Extracting features with a pre-trained neural network\n",
        "* Training a new neural network with extracted features\n",
        "* Making predictions with transfer learning\n"
      ],
      "metadata": {
        "id": "9cSDdvR7jh_l"
      }
    },
    {
      "cell_type": "code",
      "execution_count": 1,
      "metadata": {
        "id": "U8GiMPEjjVZK",
        "colab": {
          "base_uri": "https://localhost:8080/"
        },
        "outputId": "94de790b-9f3f-4f41-a648-3ebf440cc170"
      },
      "outputs": [
        {
          "output_type": "stream",
          "name": "stdout",
          "text": [
            "2.11.0\n"
          ]
        }
      ],
      "source": [
        "# import statements\n",
        "import numpy as np\n",
        "import matplotlib.pyplot as plt\n",
        "from keras.applications import vgg16\n",
        "import tensorflow as tf\n",
        "print(tf.__version__)\n"
      ]
    },
    {
      "cell_type": "code",
      "source": [
        "!python --version"
      ],
      "metadata": {
        "colab": {
          "base_uri": "https://localhost:8080/"
        },
        "id": "w03D6CalnZBi",
        "outputId": "883bc27f-927a-4829-9e91-e296561021ae"
      },
      "execution_count": 2,
      "outputs": [
        {
          "output_type": "stream",
          "name": "stdout",
          "text": [
            "Python 3.8.10\n"
          ]
        }
      ]
    },
    {
      "cell_type": "markdown",
      "source": [
        "## Using A Pre-Trained Network for Object Recognition\n",
        "Repreduce the exercise from the LinkedIn video."
      ],
      "metadata": {
        "id": "BWuGkAsGCU_Q"
      }
    },
    {
      "cell_type": "code",
      "source": [
        "# Load the Keras VGG16 - Model is pretrained against the ImageNet database\n",
        "model = vgg16.VGG16()"
      ],
      "metadata": {
        "id": "ZQMq6NDVBvyo",
        "colab": {
          "base_uri": "https://localhost:8080/"
        },
        "outputId": "37717d72-40ee-4102-c819-cdc7044b92af"
      },
      "execution_count": 3,
      "outputs": [
        {
          "output_type": "stream",
          "name": "stdout",
          "text": [
            "Downloading data from https://storage.googleapis.com/tensorflow/keras-applications/vgg16/vgg16_weights_tf_dim_ordering_tf_kernels.h5\n",
            "553467096/553467096 [==============================] - 7s 0us/step\n"
          ]
        }
      ]
    },
    {
      "cell_type": "code",
      "source": [
        "# Upload the file from local computer: bay.jpg\n",
        "from google.colab import files\n",
        "uploaded = files.upload()"
      ],
      "metadata": {
        "colab": {
          "base_uri": "https://localhost:8080/",
          "height": 73
        },
        "id": "QMxbxswwC9h4",
        "outputId": "f419d448-b4fe-4bcf-da1d-f981b6d71b0d"
      },
      "execution_count": 4,
      "outputs": [
        {
          "output_type": "display_data",
          "data": {
            "text/plain": [
              "<IPython.core.display.HTML object>"
            ],
            "text/html": [
              "\n",
              "     <input type=\"file\" id=\"files-5364c0e0-e5cb-4853-8895-1e99260994ba\" name=\"files[]\" multiple disabled\n",
              "        style=\"border:none\" />\n",
              "     <output id=\"result-5364c0e0-e5cb-4853-8895-1e99260994ba\">\n",
              "      Upload widget is only available when the cell has been executed in the\n",
              "      current browser session. Please rerun this cell to enable.\n",
              "      </output>\n",
              "      <script>// Copyright 2017 Google LLC\n",
              "//\n",
              "// Licensed under the Apache License, Version 2.0 (the \"License\");\n",
              "// you may not use this file except in compliance with the License.\n",
              "// You may obtain a copy of the License at\n",
              "//\n",
              "//      http://www.apache.org/licenses/LICENSE-2.0\n",
              "//\n",
              "// Unless required by applicable law or agreed to in writing, software\n",
              "// distributed under the License is distributed on an \"AS IS\" BASIS,\n",
              "// WITHOUT WARRANTIES OR CONDITIONS OF ANY KIND, either express or implied.\n",
              "// See the License for the specific language governing permissions and\n",
              "// limitations under the License.\n",
              "\n",
              "/**\n",
              " * @fileoverview Helpers for google.colab Python module.\n",
              " */\n",
              "(function(scope) {\n",
              "function span(text, styleAttributes = {}) {\n",
              "  const element = document.createElement('span');\n",
              "  element.textContent = text;\n",
              "  for (const key of Object.keys(styleAttributes)) {\n",
              "    element.style[key] = styleAttributes[key];\n",
              "  }\n",
              "  return element;\n",
              "}\n",
              "\n",
              "// Max number of bytes which will be uploaded at a time.\n",
              "const MAX_PAYLOAD_SIZE = 100 * 1024;\n",
              "\n",
              "function _uploadFiles(inputId, outputId) {\n",
              "  const steps = uploadFilesStep(inputId, outputId);\n",
              "  const outputElement = document.getElementById(outputId);\n",
              "  // Cache steps on the outputElement to make it available for the next call\n",
              "  // to uploadFilesContinue from Python.\n",
              "  outputElement.steps = steps;\n",
              "\n",
              "  return _uploadFilesContinue(outputId);\n",
              "}\n",
              "\n",
              "// This is roughly an async generator (not supported in the browser yet),\n",
              "// where there are multiple asynchronous steps and the Python side is going\n",
              "// to poll for completion of each step.\n",
              "// This uses a Promise to block the python side on completion of each step,\n",
              "// then passes the result of the previous step as the input to the next step.\n",
              "function _uploadFilesContinue(outputId) {\n",
              "  const outputElement = document.getElementById(outputId);\n",
              "  const steps = outputElement.steps;\n",
              "\n",
              "  const next = steps.next(outputElement.lastPromiseValue);\n",
              "  return Promise.resolve(next.value.promise).then((value) => {\n",
              "    // Cache the last promise value to make it available to the next\n",
              "    // step of the generator.\n",
              "    outputElement.lastPromiseValue = value;\n",
              "    return next.value.response;\n",
              "  });\n",
              "}\n",
              "\n",
              "/**\n",
              " * Generator function which is called between each async step of the upload\n",
              " * process.\n",
              " * @param {string} inputId Element ID of the input file picker element.\n",
              " * @param {string} outputId Element ID of the output display.\n",
              " * @return {!Iterable<!Object>} Iterable of next steps.\n",
              " */\n",
              "function* uploadFilesStep(inputId, outputId) {\n",
              "  const inputElement = document.getElementById(inputId);\n",
              "  inputElement.disabled = false;\n",
              "\n",
              "  const outputElement = document.getElementById(outputId);\n",
              "  outputElement.innerHTML = '';\n",
              "\n",
              "  const pickedPromise = new Promise((resolve) => {\n",
              "    inputElement.addEventListener('change', (e) => {\n",
              "      resolve(e.target.files);\n",
              "    });\n",
              "  });\n",
              "\n",
              "  const cancel = document.createElement('button');\n",
              "  inputElement.parentElement.appendChild(cancel);\n",
              "  cancel.textContent = 'Cancel upload';\n",
              "  const cancelPromise = new Promise((resolve) => {\n",
              "    cancel.onclick = () => {\n",
              "      resolve(null);\n",
              "    };\n",
              "  });\n",
              "\n",
              "  // Wait for the user to pick the files.\n",
              "  const files = yield {\n",
              "    promise: Promise.race([pickedPromise, cancelPromise]),\n",
              "    response: {\n",
              "      action: 'starting',\n",
              "    }\n",
              "  };\n",
              "\n",
              "  cancel.remove();\n",
              "\n",
              "  // Disable the input element since further picks are not allowed.\n",
              "  inputElement.disabled = true;\n",
              "\n",
              "  if (!files) {\n",
              "    return {\n",
              "      response: {\n",
              "        action: 'complete',\n",
              "      }\n",
              "    };\n",
              "  }\n",
              "\n",
              "  for (const file of files) {\n",
              "    const li = document.createElement('li');\n",
              "    li.append(span(file.name, {fontWeight: 'bold'}));\n",
              "    li.append(span(\n",
              "        `(${file.type || 'n/a'}) - ${file.size} bytes, ` +\n",
              "        `last modified: ${\n",
              "            file.lastModifiedDate ? file.lastModifiedDate.toLocaleDateString() :\n",
              "                                    'n/a'} - `));\n",
              "    const percent = span('0% done');\n",
              "    li.appendChild(percent);\n",
              "\n",
              "    outputElement.appendChild(li);\n",
              "\n",
              "    const fileDataPromise = new Promise((resolve) => {\n",
              "      const reader = new FileReader();\n",
              "      reader.onload = (e) => {\n",
              "        resolve(e.target.result);\n",
              "      };\n",
              "      reader.readAsArrayBuffer(file);\n",
              "    });\n",
              "    // Wait for the data to be ready.\n",
              "    let fileData = yield {\n",
              "      promise: fileDataPromise,\n",
              "      response: {\n",
              "        action: 'continue',\n",
              "      }\n",
              "    };\n",
              "\n",
              "    // Use a chunked sending to avoid message size limits. See b/62115660.\n",
              "    let position = 0;\n",
              "    do {\n",
              "      const length = Math.min(fileData.byteLength - position, MAX_PAYLOAD_SIZE);\n",
              "      const chunk = new Uint8Array(fileData, position, length);\n",
              "      position += length;\n",
              "\n",
              "      const base64 = btoa(String.fromCharCode.apply(null, chunk));\n",
              "      yield {\n",
              "        response: {\n",
              "          action: 'append',\n",
              "          file: file.name,\n",
              "          data: base64,\n",
              "        },\n",
              "      };\n",
              "\n",
              "      let percentDone = fileData.byteLength === 0 ?\n",
              "          100 :\n",
              "          Math.round((position / fileData.byteLength) * 100);\n",
              "      percent.textContent = `${percentDone}% done`;\n",
              "\n",
              "    } while (position < fileData.byteLength);\n",
              "  }\n",
              "\n",
              "  // All done.\n",
              "  yield {\n",
              "    response: {\n",
              "      action: 'complete',\n",
              "    }\n",
              "  };\n",
              "}\n",
              "\n",
              "scope.google = scope.google || {};\n",
              "scope.google.colab = scope.google.colab || {};\n",
              "scope.google.colab._files = {\n",
              "  _uploadFiles,\n",
              "  _uploadFilesContinue,\n",
              "};\n",
              "})(self);\n",
              "</script> "
            ]
          },
          "metadata": {}
        },
        {
          "output_type": "stream",
          "name": "stdout",
          "text": [
            "Saving bay.jpg to bay.jpg\n"
          ]
        }
      ]
    },
    {
      "cell_type": "code",
      "source": [
        "# Load the Image file \"bay.jpg\" and resize it to 224 x 224 pixels\n",
        "img = tf.keras.utils.load_img(\"bay.jpg\", target_size=(224, 224))\n",
        "# Convert image to numpy array\n",
        "x = tf.keras.utils.img_to_array(img)"
      ],
      "metadata": {
        "id": "hztsGhMTDY9o"
      },
      "execution_count": 5,
      "outputs": []
    },
    {
      "cell_type": "code",
      "source": [
        "# Add a fourth dimension due to Karas expecting a list of images for consistency\n",
        "x = np.expand_dims(x, axis=0)"
      ],
      "metadata": {
        "id": "iTzQ0Vo2L3SS"
      },
      "execution_count": 6,
      "outputs": []
    },
    {
      "cell_type": "code",
      "source": [
        "# Normalize imput image values to range used for training nthe neural network\n",
        "x = vgg16.preprocess_input(x)"
      ],
      "metadata": {
        "id": "-bm4fYutMRoy"
      },
      "execution_count": 7,
      "outputs": []
    },
    {
      "cell_type": "code",
      "source": [
        "# Initaite the convolutional neural network to make a prediction\n",
        "predictions = model.predict(x)"
      ],
      "metadata": {
        "colab": {
          "base_uri": "https://localhost:8080/"
        },
        "id": "X-olksIkMlrR",
        "outputId": "5f426658-1282-46a1-c26d-6a0e791a2755"
      },
      "execution_count": 8,
      "outputs": [
        {
          "output_type": "stream",
          "name": "stdout",
          "text": [
            "1/1 [==============================] - 1s 1s/step\n"
          ]
        }
      ]
    },
    {
      "cell_type": "code",
      "source": [
        "# Check for hthe names of the predicted classes. Index 0 is the results for the first image.\n",
        "predicted_classes = vgg16.decode_predictions(predictions)"
      ],
      "metadata": {
        "colab": {
          "base_uri": "https://localhost:8080/"
        },
        "id": "NkKVHuaqM7vm",
        "outputId": "e773f0ce-ec60-4e5d-f4c4-9ff115fde475"
      },
      "execution_count": 9,
      "outputs": [
        {
          "output_type": "stream",
          "name": "stdout",
          "text": [
            "Downloading data from https://storage.googleapis.com/download.tensorflow.org/data/imagenet_class_index.json\n",
            "35363/35363 [==============================] - 0s 0us/step\n"
          ]
        }
      ]
    },
    {
      "cell_type": "code",
      "source": [
        "# Print out the predictions for our test image\n",
        "print(\"Top predictions for this image: \")\n",
        "for imagenet_id, name, likelihood in predicted_classes[0]:\n",
        "  print(\"Prediction: {} - {:2f}\".format(name, likelihood) )"
      ],
      "metadata": {
        "colab": {
          "base_uri": "https://localhost:8080/"
        },
        "id": "o-wgf6S8NVtZ",
        "outputId": "5edc499b-34f8-42fd-8e4b-025eefe36d24"
      },
      "execution_count": 10,
      "outputs": [
        {
          "output_type": "stream",
          "name": "stdout",
          "text": [
            "Top predictions for this image: \n",
            "Prediction: seashore - 0.395213\n",
            "Prediction: promontory - 0.326129\n",
            "Prediction: lakeside - 0.119613\n",
            "Prediction: breakwater - 0.062801\n",
            "Prediction: sandbar - 0.045267\n"
          ]
        }
      ]
    },
    {
      "cell_type": "markdown",
      "source": [
        "## Extracting features with a pre-trained neural network\n",
        "From Part 2 of the LinkedIn Hands-On Assignment"
      ],
      "metadata": {
        "id": "YMFf5KVgPoZx"
      }
    },
    {
      "cell_type": "code",
      "source": [
        "# import necessary libraaries and modules\n",
        "from pathlib import Path \n",
        "import joblib \n",
        "# all other libraries and modules have been impoted from previous application"
      ],
      "metadata": {
        "id": "hDFZzVqEQJeV"
      },
      "execution_count": 11,
      "outputs": []
    },
    {
      "cell_type": "markdown",
      "source": [
        "### Dealilng with importing the data into Google colab"
      ],
      "metadata": {
        "id": "j9Zu5Wl3cK8R"
      }
    },
    {
      "cell_type": "code",
      "source": [
        "# Import the zipped folder with the training data in it.\n",
        "from google.colab import drive\n",
        "drive.mount('/content/drive')"
      ],
      "metadata": {
        "colab": {
          "base_uri": "https://localhost:8080/"
        },
        "id": "j7bW7lcccEXx",
        "outputId": "06bdea23-191a-4bc8-d5b0-0a6d71d00976"
      },
      "execution_count": 12,
      "outputs": [
        {
          "output_type": "stream",
          "name": "stdout",
          "text": [
            "Mounted at /content/drive\n"
          ]
        }
      ]
    },
    {
      "cell_type": "code",
      "source": [
        "# unzip folder for access from program application\n",
        "!unzip -uq \"/content/drive/MyDrive/Google Drive/training_data.zip\" -d \"\""
      ],
      "metadata": {
        "id": "65MzeNJldHW1"
      },
      "execution_count": 13,
      "outputs": []
    },
    {
      "cell_type": "code",
      "source": [
        "import keras.utils as image\n",
        "import glob\n",
        "\n",
        "# Path to folders with training data\n",
        "# Path to is dogs: /content/training_data/dogs\n",
        "# Path /content/training_data/not_dogs\n",
        "\n",
        "dog_path = Path(\"/content/training_data/dogs/\") # / \"dogs\"\n",
        "\n",
        "print(dog_path)\n",
        "\n",
        "not_dog_path = Path(\"/content/training_data/not_dogs/\") # / \"not_dogs\"\n",
        "\n",
        "print(not_dog_path)\n",
        "\n",
        "# Declare arrays\n",
        "images = []\n",
        "labels = []\n",
        "\n"
      ],
      "metadata": {
        "colab": {
          "base_uri": "https://localhost:8080/"
        },
        "id": "GeuX_AxlgAm6",
        "outputId": "feb708b0-fdc2-426d-aa1b-0578d1212ec3"
      },
      "execution_count": 14,
      "outputs": [
        {
          "output_type": "stream",
          "name": "stdout",
          "text": [
            "/content/training_data/dogs\n",
            "/content/training_data/not_dogs\n"
          ]
        }
      ]
    },
    {
      "cell_type": "markdown",
      "source": [
        "### Load All No Dog Images"
      ],
      "metadata": {
        "id": "ldzHsThLOqWq"
      }
    },
    {
      "cell_type": "code",
      "source": [
        "# load not-dog images\n",
        "\n",
        "# print(\"Pre-Loop Execution\")\n",
        "for img_nd in not_dog_path.glob(\"*.png\"):\n",
        "\n",
        "  # remove ._ from file extension\n",
        "  img_nd = str(img_nd)\n",
        "  img_nd = img_nd.replace('._', \"\")\n",
        "\n",
        "  # Load image from disk storage\n",
        "  img_nd = tf.keras.utils.load_img(img_nd)\n",
        "\n",
        "  # Convert the image to a numpy array\n",
        "  image_array =  tf.keras.utils.img_to_array(img_nd)\n",
        "\n",
        "  # add image to list of images in the images array\n",
        "  images.append(image_array)\n",
        "\n",
        "  # for each \"not dog\" image, the expected value is zero\n",
        "  labels.append(0)\n",
        "\n",
        "  # print(img_nd)"
      ],
      "metadata": {
        "id": "9WZtiMFPOuLE"
      },
      "execution_count": 15,
      "outputs": []
    },
    {
      "cell_type": "markdown",
      "source": [
        "### Load all the dog images"
      ],
      "metadata": {
        "id": "q3YqxElQ2y53"
      }
    },
    {
      "cell_type": "code",
      "source": [
        "# load dog images\n",
        "for img_dog in dog_path.glob(\"*.png\"): \n",
        "\n",
        "  # remove ._ from file extension\n",
        "  img_dog = str(img_dog)\n",
        "  img_dog = img_dog.replace('._', \"\")\n",
        "\n",
        "  # Load image from disk storage\n",
        "  img_dog = tf.keras.utils.load_img(img_dog)\n",
        "\n",
        "  # Convert the image to a numpy array\n",
        "  image_array =  tf.keras.utils.img_to_array(img_dog)\n",
        "\n",
        "  # add image to list of images in the images array\n",
        "  images.append(image_array)\n",
        "\n",
        "  # for each \"not dog\" image, the expected value is zero\n",
        "  labels.append(1)\n",
        "\n",
        "# print(img_dog)"
      ],
      "metadata": {
        "id": "p6mmvQfV23Tu"
      },
      "execution_count": 16,
      "outputs": []
    },
    {
      "cell_type": "markdown",
      "source": [
        "### Create a simple numpy array with all inages we loaded"
      ],
      "metadata": {
        "id": "geaYWy-S3IQP"
      }
    },
    {
      "cell_type": "code",
      "source": [
        "array_count = np.count_nonzero(images)\n",
        "print(array_count)\n",
        "x_train = np.array(images)"
      ],
      "metadata": {
        "colab": {
          "base_uri": "https://localhost:8080/"
        },
        "id": "Tg1bcncE3Mql",
        "outputId": "fa3ad186-df09-4362-ebbc-0a0e59efc209"
      },
      "execution_count": 17,
      "outputs": [
        {
          "output_type": "stream",
          "name": "stdout",
          "text": [
            "1402814\n"
          ]
        }
      ]
    },
    {
      "cell_type": "markdown",
      "source": [
        "### Also create a simple numpy array for the labels"
      ],
      "metadata": {
        "id": "2T9lc3M03cCj"
      }
    },
    {
      "cell_type": "code",
      "source": [
        "y_train = np.array(labels)"
      ],
      "metadata": {
        "id": "rZVYPjIm3h9y"
      },
      "execution_count": 18,
      "outputs": []
    },
    {
      "cell_type": "markdown",
      "source": [
        "### Normalize the image data to a 0 to 1 range"
      ],
      "metadata": {
        "id": "RSxtJzOb30bf"
      }
    },
    {
      "cell_type": "code",
      "source": [
        "x_train = vgg16.preprocess_input(x_train)"
      ],
      "metadata": {
        "id": "O-8BJEud399p"
      },
      "execution_count": 19,
      "outputs": []
    },
    {
      "cell_type": "markdown",
      "source": [
        "### Load a pre-trained neural network to use as a feature extractor"
      ],
      "metadata": {
        "id": "Rh0aA44RqPdK"
      }
    },
    {
      "cell_type": "code",
      "source": [
        "pretrained_nn = vgg16.VGG16(weights='imagenet', include_top=False, input_shape=(64, 64, 3)) "
      ],
      "metadata": {
        "colab": {
          "base_uri": "https://localhost:8080/"
        },
        "id": "MmGnC5RAqZvY",
        "outputId": "f5b61e2a-0343-467e-dab7-a45a9ba33842"
      },
      "execution_count": 20,
      "outputs": [
        {
          "output_type": "stream",
          "name": "stdout",
          "text": [
            "Downloading data from https://storage.googleapis.com/tensorflow/keras-applications/vgg16/vgg16_weights_tf_dim_ordering_tf_kernels_notop.h5\n",
            "58889256/58889256 [==============================] - 0s 0us/step\n"
          ]
        }
      ]
    },
    {
      "cell_type": "markdown",
      "source": [
        "### Extract features for each image (All in one pass)"
      ],
      "metadata": {
        "id": "3ZVDWwnsrK_F"
      }
    },
    {
      "cell_type": "code",
      "source": [
        "features_x = pretrained_nn.predict(x_train) "
      ],
      "metadata": {
        "colab": {
          "base_uri": "https://localhost:8080/"
        },
        "id": "1mzQS2EsrW7_",
        "outputId": "d680a5b2-2f63-4135-d870-2a52f4ed342c"
      },
      "execution_count": 21,
      "outputs": [
        {
          "output_type": "stream",
          "name": "stdout",
          "text": [
            "4/4 [==============================] - 7s 2s/step\n"
          ]
        }
      ]
    },
    {
      "cell_type": "markdown",
      "source": [
        "### Save the array of the extracted features to a file"
      ],
      "metadata": {
        "id": "N-j3Nl7drtl7"
      }
    },
    {
      "cell_type": "code",
      "source": [
        "joblib.dump(features_x, \"x_train.dat\")"
      ],
      "metadata": {
        "colab": {
          "base_uri": "https://localhost:8080/"
        },
        "id": "_sVJGGwXsE-9",
        "outputId": "ed4930e8-0a68-466d-f49c-47c2bd82f2be"
      },
      "execution_count": 22,
      "outputs": [
        {
          "output_type": "execute_result",
          "data": {
            "text/plain": [
              "['x_train.dat']"
            ]
          },
          "metadata": {},
          "execution_count": 22
        }
      ]
    },
    {
      "cell_type": "markdown",
      "source": [
        "### Save the matching array of expected values to a file."
      ],
      "metadata": {
        "id": "2U5sD6WZsZSj"
      }
    },
    {
      "cell_type": "code",
      "source": [
        "joblib.dump(y_train, \"y_train.dat\")"
      ],
      "metadata": {
        "colab": {
          "base_uri": "https://localhost:8080/"
        },
        "id": "wBEdRZ-0sftN",
        "outputId": "4ee199e3-b92a-49bf-8956-fbd8635218f6"
      },
      "execution_count": 23,
      "outputs": [
        {
          "output_type": "execute_result",
          "data": {
            "text/plain": [
              "['y_train.dat']"
            ]
          },
          "metadata": {},
          "execution_count": 23
        }
      ]
    },
    {
      "cell_type": "markdown",
      "source": [
        "# Training a new neural network with extracted features\n",
        "Load relevant libraries and modules"
      ],
      "metadata": {
        "id": "Vcz3e5oYg7Me"
      }
    },
    {
      "cell_type": "code",
      "source": [
        "from keras.models import Sequential \n",
        "from keras.layers import Dense, Dropout, Flatten \n",
        "from pathlib import Path \n",
        "import joblib "
      ],
      "metadata": {
        "id": "BF34YXgAhCsK"
      },
      "execution_count": 24,
      "outputs": []
    },
    {
      "cell_type": "markdown",
      "source": [
        "### Load Data Set"
      ],
      "metadata": {
        "id": "BgnUqKeuiMou"
      }
    },
    {
      "cell_type": "code",
      "source": [
        "x_train = joblib.load(\"/content/x_train.dat\") \n",
        "y_train = joblib.load(\"/content/y_train.dat\")"
      ],
      "metadata": {
        "id": "5YBJkSP7iTrP"
      },
      "execution_count": 29,
      "outputs": []
    },
    {
      "cell_type": "markdown",
      "source": [
        "### Create a model and add layers"
      ],
      "metadata": {
        "id": "v1WOX1J0jfh_"
      }
    },
    {
      "cell_type": "code",
      "source": [
        "model = Sequential()\n",
        "\n",
        "model.add(Flatten(input_shape=x_train.shape[1:])) \n",
        "model.add(Dense(256, activation='relu')) \n",
        "model.add(Dropout(0.5)) \n",
        "model.add(Dense(1, activation='sigmoid'))"
      ],
      "metadata": {
        "id": "Vz18cQoCjihk"
      },
      "execution_count": 31,
      "outputs": []
    },
    {
      "cell_type": "markdown",
      "source": [
        "### Compile the model"
      ],
      "metadata": {
        "id": "5VuStkOwkaDw"
      }
    },
    {
      "cell_type": "code",
      "source": [
        "model.compile(\n",
        "    loss='binary_crossentropy',\n",
        "    optimizer='adam',\n",
        "    metrics=['accuracy']\n",
        ")"
      ],
      "metadata": {
        "id": "X5ivb9mzkcDX"
      },
      "execution_count": 32,
      "outputs": []
    },
    {
      "cell_type": "markdown",
      "source": [
        "### Train the model"
      ],
      "metadata": {
        "id": "i-brDxUMk9r8"
      }
    },
    {
      "cell_type": "code",
      "source": [
        "model.fit(\n",
        "    x_train,\n",
        "    y_train,\n",
        "    epochs=10,\n",
        "    shuffle=True\n",
        ")"
      ],
      "metadata": {
        "colab": {
          "base_uri": "https://localhost:8080/"
        },
        "id": "S_TUIfKdlAY1",
        "outputId": "37fe95dc-5272-4fa7-861b-b69b22711511"
      },
      "execution_count": 33,
      "outputs": [
        {
          "output_type": "stream",
          "name": "stdout",
          "text": [
            "Epoch 1/10\n",
            "4/4 [==============================] - 1s 13ms/step - loss: 10.6194 - accuracy: 0.6897\n",
            "Epoch 2/10\n",
            "4/4 [==============================] - 0s 11ms/step - loss: 0.3887 - accuracy: 0.9741\n",
            "Epoch 3/10\n",
            "4/4 [==============================] - 0s 9ms/step - loss: 0.0649 - accuracy: 0.9741\n",
            "Epoch 4/10\n",
            "4/4 [==============================] - 0s 8ms/step - loss: 0.0557 - accuracy: 0.9828\n",
            "Epoch 5/10\n",
            "4/4 [==============================] - 0s 12ms/step - loss: 1.4143e-08 - accuracy: 1.0000\n",
            "Epoch 6/10\n",
            "4/4 [==============================] - 0s 9ms/step - loss: 3.5335e-14 - accuracy: 1.0000\n",
            "Epoch 7/10\n",
            "4/4 [==============================] - 0s 9ms/step - loss: 2.1934e-08 - accuracy: 1.0000\n",
            "Epoch 8/10\n",
            "4/4 [==============================] - 0s 9ms/step - loss: 2.0643e-14 - accuracy: 1.0000\n",
            "Epoch 9/10\n",
            "4/4 [==============================] - 0s 9ms/step - loss: 0.0036 - accuracy: 1.0000\n",
            "Epoch 10/10\n",
            "4/4 [==============================] - 0s 11ms/step - loss: 2.9675e-08 - accuracy: 1.0000\n"
          ]
        },
        {
          "output_type": "execute_result",
          "data": {
            "text/plain": [
              "<keras.callbacks.History at 0x7fd1fe074a00>"
            ]
          },
          "metadata": {},
          "execution_count": 33
        }
      ]
    },
    {
      "cell_type": "markdown",
      "source": [
        "### Save the Neural Network structure"
      ],
      "metadata": {
        "id": "p2LHogoslVCb"
      }
    },
    {
      "cell_type": "code",
      "source": [
        "model_structure = model.to_json()\n",
        "f = Path(\"model_structure.json\") \n",
        "f.write_text(model_structure)"
      ],
      "metadata": {
        "colab": {
          "base_uri": "https://localhost:8080/"
        },
        "id": "v5OqD1BnlYI3",
        "outputId": "5961aceb-d15a-48d6-a430-df54d9b985fe"
      },
      "execution_count": 34,
      "outputs": [
        {
          "output_type": "execute_result",
          "data": {
            "text/plain": [
              "1452"
            ]
          },
          "metadata": {},
          "execution_count": 34
        }
      ]
    },
    {
      "cell_type": "markdown",
      "source": [
        "### Save the Neural Network Trained Weights"
      ],
      "metadata": {
        "id": "icyOP151mCdc"
      }
    },
    {
      "cell_type": "code",
      "source": [
        "model.save_weights(\"model_weights.h5\")"
      ],
      "metadata": {
        "id": "56pVLPjEmG2A"
      },
      "execution_count": 35,
      "outputs": []
    },
    {
      "cell_type": "markdown",
      "source": [
        "# Making predictions with transfer learning\n",
        "Load modules and libraries needed to make predictions"
      ],
      "metadata": {
        "id": "_F_OymLcmjRl"
      }
    },
    {
      "cell_type": "code",
      "source": [
        "from keras.models import model_from_json \n",
        "from pathlib import Path\n",
        "import numpy as np\n",
        "from keras.applications import vgg16"
      ],
      "metadata": {
        "id": "maG7RXGlm3Xh"
      },
      "execution_count": 36,
      "outputs": []
    },
    {
      "cell_type": "markdown",
      "source": [
        "### Import the json file that contains the model structure"
      ],
      "metadata": {
        "id": "NPIzyD0-nrQJ"
      }
    },
    {
      "cell_type": "code",
      "source": [
        "f = Path(\"model_structure.json\") \n",
        "model_structure = f.read_text()"
      ],
      "metadata": {
        "id": "8j9-lwn8n0Am"
      },
      "execution_count": 37,
      "outputs": []
    },
    {
      "cell_type": "markdown",
      "source": [
        "### Reload the models trained weights"
      ],
      "metadata": {
        "id": "nPSU6GjMoGoc"
      }
    },
    {
      "cell_type": "code",
      "source": [
        "model.load_weights(\"model_weights.h5\")"
      ],
      "metadata": {
        "id": "AJx19WHgoJHk"
      },
      "execution_count": 38,
      "outputs": []
    },
    {
      "cell_type": "markdown",
      "source": [
        "### Load the image file to test, resizing it to 64 x 64 pixels\n",
        "As required by this model"
      ],
      "metadata": {
        "id": "5gULZG3toTIW"
      }
    },
    {
      "cell_type": "code",
      "source": [
        "# Upload the file from local computer: not_dog.png\n",
        "from google.colab import files\n",
        "uploaded = files.upload()"
      ],
      "metadata": {
        "colab": {
          "base_uri": "https://localhost:8080/",
          "height": 73
        },
        "id": "fbjyAOOGonBR",
        "outputId": "553e586f-4db0-4f4d-ed8e-71a6668c457e"
      },
      "execution_count": 39,
      "outputs": [
        {
          "output_type": "display_data",
          "data": {
            "text/plain": [
              "<IPython.core.display.HTML object>"
            ],
            "text/html": [
              "\n",
              "     <input type=\"file\" id=\"files-53153e1c-94b2-4193-9ed8-c55ed83b6c7f\" name=\"files[]\" multiple disabled\n",
              "        style=\"border:none\" />\n",
              "     <output id=\"result-53153e1c-94b2-4193-9ed8-c55ed83b6c7f\">\n",
              "      Upload widget is only available when the cell has been executed in the\n",
              "      current browser session. Please rerun this cell to enable.\n",
              "      </output>\n",
              "      <script>// Copyright 2017 Google LLC\n",
              "//\n",
              "// Licensed under the Apache License, Version 2.0 (the \"License\");\n",
              "// you may not use this file except in compliance with the License.\n",
              "// You may obtain a copy of the License at\n",
              "//\n",
              "//      http://www.apache.org/licenses/LICENSE-2.0\n",
              "//\n",
              "// Unless required by applicable law or agreed to in writing, software\n",
              "// distributed under the License is distributed on an \"AS IS\" BASIS,\n",
              "// WITHOUT WARRANTIES OR CONDITIONS OF ANY KIND, either express or implied.\n",
              "// See the License for the specific language governing permissions and\n",
              "// limitations under the License.\n",
              "\n",
              "/**\n",
              " * @fileoverview Helpers for google.colab Python module.\n",
              " */\n",
              "(function(scope) {\n",
              "function span(text, styleAttributes = {}) {\n",
              "  const element = document.createElement('span');\n",
              "  element.textContent = text;\n",
              "  for (const key of Object.keys(styleAttributes)) {\n",
              "    element.style[key] = styleAttributes[key];\n",
              "  }\n",
              "  return element;\n",
              "}\n",
              "\n",
              "// Max number of bytes which will be uploaded at a time.\n",
              "const MAX_PAYLOAD_SIZE = 100 * 1024;\n",
              "\n",
              "function _uploadFiles(inputId, outputId) {\n",
              "  const steps = uploadFilesStep(inputId, outputId);\n",
              "  const outputElement = document.getElementById(outputId);\n",
              "  // Cache steps on the outputElement to make it available for the next call\n",
              "  // to uploadFilesContinue from Python.\n",
              "  outputElement.steps = steps;\n",
              "\n",
              "  return _uploadFilesContinue(outputId);\n",
              "}\n",
              "\n",
              "// This is roughly an async generator (not supported in the browser yet),\n",
              "// where there are multiple asynchronous steps and the Python side is going\n",
              "// to poll for completion of each step.\n",
              "// This uses a Promise to block the python side on completion of each step,\n",
              "// then passes the result of the previous step as the input to the next step.\n",
              "function _uploadFilesContinue(outputId) {\n",
              "  const outputElement = document.getElementById(outputId);\n",
              "  const steps = outputElement.steps;\n",
              "\n",
              "  const next = steps.next(outputElement.lastPromiseValue);\n",
              "  return Promise.resolve(next.value.promise).then((value) => {\n",
              "    // Cache the last promise value to make it available to the next\n",
              "    // step of the generator.\n",
              "    outputElement.lastPromiseValue = value;\n",
              "    return next.value.response;\n",
              "  });\n",
              "}\n",
              "\n",
              "/**\n",
              " * Generator function which is called between each async step of the upload\n",
              " * process.\n",
              " * @param {string} inputId Element ID of the input file picker element.\n",
              " * @param {string} outputId Element ID of the output display.\n",
              " * @return {!Iterable<!Object>} Iterable of next steps.\n",
              " */\n",
              "function* uploadFilesStep(inputId, outputId) {\n",
              "  const inputElement = document.getElementById(inputId);\n",
              "  inputElement.disabled = false;\n",
              "\n",
              "  const outputElement = document.getElementById(outputId);\n",
              "  outputElement.innerHTML = '';\n",
              "\n",
              "  const pickedPromise = new Promise((resolve) => {\n",
              "    inputElement.addEventListener('change', (e) => {\n",
              "      resolve(e.target.files);\n",
              "    });\n",
              "  });\n",
              "\n",
              "  const cancel = document.createElement('button');\n",
              "  inputElement.parentElement.appendChild(cancel);\n",
              "  cancel.textContent = 'Cancel upload';\n",
              "  const cancelPromise = new Promise((resolve) => {\n",
              "    cancel.onclick = () => {\n",
              "      resolve(null);\n",
              "    };\n",
              "  });\n",
              "\n",
              "  // Wait for the user to pick the files.\n",
              "  const files = yield {\n",
              "    promise: Promise.race([pickedPromise, cancelPromise]),\n",
              "    response: {\n",
              "      action: 'starting',\n",
              "    }\n",
              "  };\n",
              "\n",
              "  cancel.remove();\n",
              "\n",
              "  // Disable the input element since further picks are not allowed.\n",
              "  inputElement.disabled = true;\n",
              "\n",
              "  if (!files) {\n",
              "    return {\n",
              "      response: {\n",
              "        action: 'complete',\n",
              "      }\n",
              "    };\n",
              "  }\n",
              "\n",
              "  for (const file of files) {\n",
              "    const li = document.createElement('li');\n",
              "    li.append(span(file.name, {fontWeight: 'bold'}));\n",
              "    li.append(span(\n",
              "        `(${file.type || 'n/a'}) - ${file.size} bytes, ` +\n",
              "        `last modified: ${\n",
              "            file.lastModifiedDate ? file.lastModifiedDate.toLocaleDateString() :\n",
              "                                    'n/a'} - `));\n",
              "    const percent = span('0% done');\n",
              "    li.appendChild(percent);\n",
              "\n",
              "    outputElement.appendChild(li);\n",
              "\n",
              "    const fileDataPromise = new Promise((resolve) => {\n",
              "      const reader = new FileReader();\n",
              "      reader.onload = (e) => {\n",
              "        resolve(e.target.result);\n",
              "      };\n",
              "      reader.readAsArrayBuffer(file);\n",
              "    });\n",
              "    // Wait for the data to be ready.\n",
              "    let fileData = yield {\n",
              "      promise: fileDataPromise,\n",
              "      response: {\n",
              "        action: 'continue',\n",
              "      }\n",
              "    };\n",
              "\n",
              "    // Use a chunked sending to avoid message size limits. See b/62115660.\n",
              "    let position = 0;\n",
              "    do {\n",
              "      const length = Math.min(fileData.byteLength - position, MAX_PAYLOAD_SIZE);\n",
              "      const chunk = new Uint8Array(fileData, position, length);\n",
              "      position += length;\n",
              "\n",
              "      const base64 = btoa(String.fromCharCode.apply(null, chunk));\n",
              "      yield {\n",
              "        response: {\n",
              "          action: 'append',\n",
              "          file: file.name,\n",
              "          data: base64,\n",
              "        },\n",
              "      };\n",
              "\n",
              "      let percentDone = fileData.byteLength === 0 ?\n",
              "          100 :\n",
              "          Math.round((position / fileData.byteLength) * 100);\n",
              "      percent.textContent = `${percentDone}% done`;\n",
              "\n",
              "    } while (position < fileData.byteLength);\n",
              "  }\n",
              "\n",
              "  // All done.\n",
              "  yield {\n",
              "    response: {\n",
              "      action: 'complete',\n",
              "    }\n",
              "  };\n",
              "}\n",
              "\n",
              "scope.google = scope.google || {};\n",
              "scope.google.colab = scope.google.colab || {};\n",
              "scope.google.colab._files = {\n",
              "  _uploadFiles,\n",
              "  _uploadFilesContinue,\n",
              "};\n",
              "})(self);\n",
              "</script> "
            ]
          },
          "metadata": {}
        },
        {
          "output_type": "stream",
          "name": "stdout",
          "text": [
            "Saving not_dog.png to not_dog.png\n"
          ]
        }
      ]
    },
    {
      "cell_type": "code",
      "source": [
        "# Load the Image file \"not_dog.png\" and resize it to 64 x 64 pixels\n",
        "img = tf.keras.utils.load_img(\"not_dog.png\", target_size=(64, 64))\n",
        "# Convert image to numpy array\n",
        "image_array = tf.keras.utils.img_to_array(img)"
      ],
      "metadata": {
        "id": "pmoraTdMo6A6"
      },
      "execution_count": 40,
      "outputs": []
    },
    {
      "cell_type": "markdown",
      "source": [
        "### Add a fourth dimension to image \n",
        "Keras expects a bunch of images, not a sinlge layer "
      ],
      "metadata": {
        "id": "TwYU_c6mpksY"
      }
    },
    {
      "cell_type": "code",
      "source": [
        "images = np.expand_dims(image_array, axis=0) "
      ],
      "metadata": {
        "id": "PwVVmt6Bp0gR"
      },
      "execution_count": 41,
      "outputs": []
    },
    {
      "cell_type": "markdown",
      "source": [
        "### Normalize the data"
      ],
      "metadata": {
        "id": "iNxjgcS4qJx6"
      }
    },
    {
      "cell_type": "code",
      "source": [
        "images = vgg16.preprocess_input(images)"
      ],
      "metadata": {
        "id": "9V7I1ZqLqM_v"
      },
      "execution_count": 42,
      "outputs": []
    },
    {
      "cell_type": "markdown",
      "source": [
        "### Use the pre-trained neural network to extract features from our test image.\n",
        "The same way we did to train the model"
      ],
      "metadata": {
        "id": "GgbHamgrqVrn"
      }
    },
    {
      "cell_type": "code",
      "source": [
        "feature_extraction_model = vgg16.VGG16(weights='imagenet', include_top=False, input_shape=(64, 64, 3)) \n",
        "features = feature_extraction_model.predict(images)"
      ],
      "metadata": {
        "colab": {
          "base_uri": "https://localhost:8080/"
        },
        "id": "hP8z2emqqa9y",
        "outputId": "630bf543-ea59-46d1-f372-3aba3660ae5a"
      },
      "execution_count": 43,
      "outputs": [
        {
          "output_type": "stream",
          "name": "stdout",
          "text": [
            "1/1 [==============================] - 0s 223ms/step\n"
          ]
        }
      ]
    },
    {
      "cell_type": "markdown",
      "source": [
        "### Given the extracted features, make a final prediction using our own model."
      ],
      "metadata": {
        "id": "ibKadf6rrKZh"
      }
    },
    {
      "cell_type": "code",
      "source": [
        "results = model.predict(features) "
      ],
      "metadata": {
        "colab": {
          "base_uri": "https://localhost:8080/"
        },
        "id": "wIeNYTIyrS1O",
        "outputId": "57c9d9c9-b8c1-4fc3-98a6-7bc4640e9a81"
      },
      "execution_count": 44,
      "outputs": [
        {
          "output_type": "stream",
          "name": "stdout",
          "text": [
            "1/1 [==============================] - 0s 65ms/step\n"
          ]
        }
      ]
    },
    {
      "cell_type": "markdown",
      "source": [
        "### Since we are only testing one image with possible class:\n",
        "We only need to check the first result's first element"
      ],
      "metadata": {
        "id": "wjTWRDS5rdiA"
      }
    },
    {
      "cell_type": "code",
      "source": [
        "single_result = results[0] [0] "
      ],
      "metadata": {
        "id": "d8ujjhWlrpNL"
      },
      "execution_count": 45,
      "outputs": []
    },
    {
      "cell_type": "markdown",
      "source": [
        "### Print the result!"
      ],
      "metadata": {
        "id": "G-KHsYIgr2hf"
      }
    },
    {
      "cell_type": "code",
      "source": [
        "print(\"Likelihood that this image contains a dog: {}%\".format(int(single_result * 100)))"
      ],
      "metadata": {
        "colab": {
          "base_uri": "https://localhost:8080/"
        },
        "id": "JPRq2B4Wr5Qe",
        "outputId": "65095400-8f31-47b3-a58b-630a89ea836b"
      },
      "execution_count": 46,
      "outputs": [
        {
          "output_type": "stream",
          "name": "stdout",
          "text": [
            "Likelihood that this image contains a dog: 0%\n"
          ]
        }
      ]
    }
  ]
}