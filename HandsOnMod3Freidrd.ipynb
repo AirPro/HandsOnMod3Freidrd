{
  "nbformat": 4,
  "nbformat_minor": 0,
  "metadata": {
    "colab": {
      "provenance": [],
      "authorship_tag": "ABX9TyMTO7bsgS0YqjYUAP1Zg4a9",
      "include_colab_link": true
    },
    "kernelspec": {
      "name": "python3",
      "display_name": "Python 3"
    },
    "language_info": {
      "name": "python"
    }
  },
  "cells": [
    {
      "cell_type": "markdown",
      "metadata": {
        "id": "view-in-github",
        "colab_type": "text"
      },
      "source": [
        "<a href=\"https://colab.research.google.com/github/AirPro/HandsOnMod3Freidrd/blob/main/HandsOnMod3Freidrd.ipynb\" target=\"_parent\"><img src=\"https://colab.research.google.com/assets/colab-badge.svg\" alt=\"Open In Colab\"/></a>"
      ]
    },
    {
      "cell_type": "markdown",
      "source": [
        "# Module 3 Hands On Assignment By: Robert Freid\n",
        "It is in the hands-on. You need to watch the section 5 in the LinkedIn course which link is provided in the hands-on section. So, section 5 has different subtopic video list, you need to repeat exactly what has been done in these videos but using Google Colab.\n",
        "The title of these subsections:\n",
        "\n",
        "* Using a pre-trained network for object recognition\n",
        "* Extracting features with a pre-trained neural network\n",
        "* Training a new neural network with extracted features\n",
        "* Making predictions with transfer learning\n"
      ],
      "metadata": {
        "id": "9cSDdvR7jh_l"
      }
    },
    {
      "cell_type": "code",
      "execution_count": 1,
      "metadata": {
        "id": "U8GiMPEjjVZK",
        "colab": {
          "base_uri": "https://localhost:8080/"
        },
        "outputId": "383769cf-fb4c-48f5-d7a1-220195f05341"
      },
      "outputs": [
        {
          "output_type": "stream",
          "name": "stdout",
          "text": [
            "2.11.0\n"
          ]
        }
      ],
      "source": [
        "# import statements\n",
        "import numpy as np\n",
        "import matplotlib.pyplot as plt\n",
        "from keras.applications import vgg16\n",
        "import tensorflow as tf\n",
        "print(tf.__version__)\n"
      ]
    },
    {
      "cell_type": "code",
      "source": [
        "!python --version"
      ],
      "metadata": {
        "colab": {
          "base_uri": "https://localhost:8080/"
        },
        "id": "w03D6CalnZBi",
        "outputId": "9fb25990-e209-423e-d0a2-91f0631f1d59"
      },
      "execution_count": 2,
      "outputs": [
        {
          "output_type": "stream",
          "name": "stdout",
          "text": [
            "Python 3.8.10\n"
          ]
        }
      ]
    },
    {
      "cell_type": "markdown",
      "source": [
        "## Using A Pre-Trained Network for Object Recognition\n",
        "Repreduce the exercise from the LinkedIn video."
      ],
      "metadata": {
        "id": "BWuGkAsGCU_Q"
      }
    },
    {
      "cell_type": "code",
      "source": [
        "# Load the Keras VGG16 - Model is pretrained against the ImageNet database\n",
        "model = vgg16.VGG16()"
      ],
      "metadata": {
        "id": "ZQMq6NDVBvyo"
      },
      "execution_count": 3,
      "outputs": []
    },
    {
      "cell_type": "code",
      "source": [
        "# Upload the file from local computer: bay.jpg\n",
        "from google.colab import files\n",
        "uploaded = files.upload()"
      ],
      "metadata": {
        "colab": {
          "base_uri": "https://localhost:8080/",
          "height": 73
        },
        "id": "QMxbxswwC9h4",
        "outputId": "2e56bab4-df5b-40aa-8b69-e081f902e4c5"
      },
      "execution_count": 4,
      "outputs": [
        {
          "output_type": "display_data",
          "data": {
            "text/plain": [
              "<IPython.core.display.HTML object>"
            ],
            "text/html": [
              "\n",
              "     <input type=\"file\" id=\"files-bd695ecb-b6d8-4a3b-82f0-e0b47da3750f\" name=\"files[]\" multiple disabled\n",
              "        style=\"border:none\" />\n",
              "     <output id=\"result-bd695ecb-b6d8-4a3b-82f0-e0b47da3750f\">\n",
              "      Upload widget is only available when the cell has been executed in the\n",
              "      current browser session. Please rerun this cell to enable.\n",
              "      </output>\n",
              "      <script>// Copyright 2017 Google LLC\n",
              "//\n",
              "// Licensed under the Apache License, Version 2.0 (the \"License\");\n",
              "// you may not use this file except in compliance with the License.\n",
              "// You may obtain a copy of the License at\n",
              "//\n",
              "//      http://www.apache.org/licenses/LICENSE-2.0\n",
              "//\n",
              "// Unless required by applicable law or agreed to in writing, software\n",
              "// distributed under the License is distributed on an \"AS IS\" BASIS,\n",
              "// WITHOUT WARRANTIES OR CONDITIONS OF ANY KIND, either express or implied.\n",
              "// See the License for the specific language governing permissions and\n",
              "// limitations under the License.\n",
              "\n",
              "/**\n",
              " * @fileoverview Helpers for google.colab Python module.\n",
              " */\n",
              "(function(scope) {\n",
              "function span(text, styleAttributes = {}) {\n",
              "  const element = document.createElement('span');\n",
              "  element.textContent = text;\n",
              "  for (const key of Object.keys(styleAttributes)) {\n",
              "    element.style[key] = styleAttributes[key];\n",
              "  }\n",
              "  return element;\n",
              "}\n",
              "\n",
              "// Max number of bytes which will be uploaded at a time.\n",
              "const MAX_PAYLOAD_SIZE = 100 * 1024;\n",
              "\n",
              "function _uploadFiles(inputId, outputId) {\n",
              "  const steps = uploadFilesStep(inputId, outputId);\n",
              "  const outputElement = document.getElementById(outputId);\n",
              "  // Cache steps on the outputElement to make it available for the next call\n",
              "  // to uploadFilesContinue from Python.\n",
              "  outputElement.steps = steps;\n",
              "\n",
              "  return _uploadFilesContinue(outputId);\n",
              "}\n",
              "\n",
              "// This is roughly an async generator (not supported in the browser yet),\n",
              "// where there are multiple asynchronous steps and the Python side is going\n",
              "// to poll for completion of each step.\n",
              "// This uses a Promise to block the python side on completion of each step,\n",
              "// then passes the result of the previous step as the input to the next step.\n",
              "function _uploadFilesContinue(outputId) {\n",
              "  const outputElement = document.getElementById(outputId);\n",
              "  const steps = outputElement.steps;\n",
              "\n",
              "  const next = steps.next(outputElement.lastPromiseValue);\n",
              "  return Promise.resolve(next.value.promise).then((value) => {\n",
              "    // Cache the last promise value to make it available to the next\n",
              "    // step of the generator.\n",
              "    outputElement.lastPromiseValue = value;\n",
              "    return next.value.response;\n",
              "  });\n",
              "}\n",
              "\n",
              "/**\n",
              " * Generator function which is called between each async step of the upload\n",
              " * process.\n",
              " * @param {string} inputId Element ID of the input file picker element.\n",
              " * @param {string} outputId Element ID of the output display.\n",
              " * @return {!Iterable<!Object>} Iterable of next steps.\n",
              " */\n",
              "function* uploadFilesStep(inputId, outputId) {\n",
              "  const inputElement = document.getElementById(inputId);\n",
              "  inputElement.disabled = false;\n",
              "\n",
              "  const outputElement = document.getElementById(outputId);\n",
              "  outputElement.innerHTML = '';\n",
              "\n",
              "  const pickedPromise = new Promise((resolve) => {\n",
              "    inputElement.addEventListener('change', (e) => {\n",
              "      resolve(e.target.files);\n",
              "    });\n",
              "  });\n",
              "\n",
              "  const cancel = document.createElement('button');\n",
              "  inputElement.parentElement.appendChild(cancel);\n",
              "  cancel.textContent = 'Cancel upload';\n",
              "  const cancelPromise = new Promise((resolve) => {\n",
              "    cancel.onclick = () => {\n",
              "      resolve(null);\n",
              "    };\n",
              "  });\n",
              "\n",
              "  // Wait for the user to pick the files.\n",
              "  const files = yield {\n",
              "    promise: Promise.race([pickedPromise, cancelPromise]),\n",
              "    response: {\n",
              "      action: 'starting',\n",
              "    }\n",
              "  };\n",
              "\n",
              "  cancel.remove();\n",
              "\n",
              "  // Disable the input element since further picks are not allowed.\n",
              "  inputElement.disabled = true;\n",
              "\n",
              "  if (!files) {\n",
              "    return {\n",
              "      response: {\n",
              "        action: 'complete',\n",
              "      }\n",
              "    };\n",
              "  }\n",
              "\n",
              "  for (const file of files) {\n",
              "    const li = document.createElement('li');\n",
              "    li.append(span(file.name, {fontWeight: 'bold'}));\n",
              "    li.append(span(\n",
              "        `(${file.type || 'n/a'}) - ${file.size} bytes, ` +\n",
              "        `last modified: ${\n",
              "            file.lastModifiedDate ? file.lastModifiedDate.toLocaleDateString() :\n",
              "                                    'n/a'} - `));\n",
              "    const percent = span('0% done');\n",
              "    li.appendChild(percent);\n",
              "\n",
              "    outputElement.appendChild(li);\n",
              "\n",
              "    const fileDataPromise = new Promise((resolve) => {\n",
              "      const reader = new FileReader();\n",
              "      reader.onload = (e) => {\n",
              "        resolve(e.target.result);\n",
              "      };\n",
              "      reader.readAsArrayBuffer(file);\n",
              "    });\n",
              "    // Wait for the data to be ready.\n",
              "    let fileData = yield {\n",
              "      promise: fileDataPromise,\n",
              "      response: {\n",
              "        action: 'continue',\n",
              "      }\n",
              "    };\n",
              "\n",
              "    // Use a chunked sending to avoid message size limits. See b/62115660.\n",
              "    let position = 0;\n",
              "    do {\n",
              "      const length = Math.min(fileData.byteLength - position, MAX_PAYLOAD_SIZE);\n",
              "      const chunk = new Uint8Array(fileData, position, length);\n",
              "      position += length;\n",
              "\n",
              "      const base64 = btoa(String.fromCharCode.apply(null, chunk));\n",
              "      yield {\n",
              "        response: {\n",
              "          action: 'append',\n",
              "          file: file.name,\n",
              "          data: base64,\n",
              "        },\n",
              "      };\n",
              "\n",
              "      let percentDone = fileData.byteLength === 0 ?\n",
              "          100 :\n",
              "          Math.round((position / fileData.byteLength) * 100);\n",
              "      percent.textContent = `${percentDone}% done`;\n",
              "\n",
              "    } while (position < fileData.byteLength);\n",
              "  }\n",
              "\n",
              "  // All done.\n",
              "  yield {\n",
              "    response: {\n",
              "      action: 'complete',\n",
              "    }\n",
              "  };\n",
              "}\n",
              "\n",
              "scope.google = scope.google || {};\n",
              "scope.google.colab = scope.google.colab || {};\n",
              "scope.google.colab._files = {\n",
              "  _uploadFiles,\n",
              "  _uploadFilesContinue,\n",
              "};\n",
              "})(self);\n",
              "</script> "
            ]
          },
          "metadata": {}
        },
        {
          "output_type": "stream",
          "name": "stdout",
          "text": [
            "Saving bay.jpg to bay.jpg\n"
          ]
        }
      ]
    },
    {
      "cell_type": "code",
      "source": [
        "# Load the Image file \"bay.jpg\" and resize it to 224 x 224 pixels\n",
        "img = tf.keras.utils.load_img(\"bay.jpg\", target_size=(224, 224))\n",
        "# Convert image to numpy array\n",
        "x = tf.keras.utils.img_to_array(img)"
      ],
      "metadata": {
        "id": "hztsGhMTDY9o"
      },
      "execution_count": 5,
      "outputs": []
    },
    {
      "cell_type": "code",
      "source": [
        "# Add a fourth dimension due to Karas expecting a list of images for consistency\n",
        "x = np.expand_dims(x, axis=0)"
      ],
      "metadata": {
        "id": "iTzQ0Vo2L3SS"
      },
      "execution_count": 6,
      "outputs": []
    },
    {
      "cell_type": "code",
      "source": [
        "# Normalize imput image values to range used for training nthe neural network\n",
        "x = vgg16.preprocess_input(x)"
      ],
      "metadata": {
        "id": "-bm4fYutMRoy"
      },
      "execution_count": 7,
      "outputs": []
    },
    {
      "cell_type": "code",
      "source": [
        "# Initaite the convolutional neural network to make a prediction\n",
        "predictions = model.predict(x)"
      ],
      "metadata": {
        "colab": {
          "base_uri": "https://localhost:8080/"
        },
        "id": "X-olksIkMlrR",
        "outputId": "3f62988b-f9c4-465f-9e4e-84ce534836d6"
      },
      "execution_count": 8,
      "outputs": [
        {
          "output_type": "stream",
          "name": "stdout",
          "text": [
            "1/1 [==============================] - 2s 2s/step\n"
          ]
        }
      ]
    },
    {
      "cell_type": "code",
      "source": [
        "# Check for hthe names of the predicted classes. Index 0 is the results for the first image.\n",
        "predicted_classes = vgg16.decode_predictions(predictions)"
      ],
      "metadata": {
        "colab": {
          "base_uri": "https://localhost:8080/"
        },
        "id": "NkKVHuaqM7vm",
        "outputId": "01eeb704-dd12-4155-88c4-7957c76d71af"
      },
      "execution_count": 9,
      "outputs": [
        {
          "output_type": "stream",
          "name": "stdout",
          "text": [
            "Downloading data from https://storage.googleapis.com/download.tensorflow.org/data/imagenet_class_index.json\n",
            "35363/35363 [==============================] - 0s 0us/step\n"
          ]
        }
      ]
    },
    {
      "cell_type": "code",
      "source": [
        "# Print out the predictions for our test image\n",
        "print(\"Top predictions for this image: \")\n",
        "for imagenet_id, name, likelihood in predicted_classes[0]:\n",
        "  print(\"Prediction: {} - {:2f}\".format(name, likelihood) )"
      ],
      "metadata": {
        "colab": {
          "base_uri": "https://localhost:8080/"
        },
        "id": "o-wgf6S8NVtZ",
        "outputId": "7f214b3d-2d6b-4758-864b-69b782fd6731"
      },
      "execution_count": 10,
      "outputs": [
        {
          "output_type": "stream",
          "name": "stdout",
          "text": [
            "Top predictions for this image: \n",
            "Prediction: seashore - 0.395213\n",
            "Prediction: promontory - 0.326129\n",
            "Prediction: lakeside - 0.119613\n",
            "Prediction: breakwater - 0.062801\n",
            "Prediction: sandbar - 0.045267\n"
          ]
        }
      ]
    },
    {
      "cell_type": "markdown",
      "source": [
        "## Extracting features with a pre-trained neural network\n",
        "From Part 2 of the LinkedIn Hands-On Assignment"
      ],
      "metadata": {
        "id": "YMFf5KVgPoZx"
      }
    },
    {
      "cell_type": "code",
      "source": [
        "# import necessary libraaries and modules\n",
        "from pathlib import Path \n",
        "import joblib \n",
        "# all other libraries and modules have been impoted from previous application"
      ],
      "metadata": {
        "id": "hDFZzVqEQJeV"
      },
      "execution_count": 11,
      "outputs": []
    },
    {
      "cell_type": "markdown",
      "source": [
        "### Dealilng with importing the data into Google colab"
      ],
      "metadata": {
        "id": "j9Zu5Wl3cK8R"
      }
    },
    {
      "cell_type": "code",
      "source": [
        "# Import the zipped folder with the training data in it.\n",
        "from google.colab import drive\n",
        "drive.mount('/content/drive')"
      ],
      "metadata": {
        "colab": {
          "base_uri": "https://localhost:8080/"
        },
        "id": "j7bW7lcccEXx",
        "outputId": "0f43d848-95f8-465f-c7bf-58626990d2ba"
      },
      "execution_count": 12,
      "outputs": [
        {
          "output_type": "stream",
          "name": "stdout",
          "text": [
            "Mounted at /content/drive\n"
          ]
        }
      ]
    },
    {
      "cell_type": "code",
      "source": [
        "# unzip folder for access from program application\n",
        "!unzip -uq \"/content/drive/MyDrive/Google Drive/training_data.zip\" -d \"\""
      ],
      "metadata": {
        "id": "65MzeNJldHW1"
      },
      "execution_count": 13,
      "outputs": []
    },
    {
      "cell_type": "code",
      "source": [
        "import keras.utils as image\n",
        "import glob\n",
        "\n",
        "# Path to folders with training data\n",
        "# Path to is dogs: /content/training_data/dogs\n",
        "# Path /content/training_data/not_dogs\n",
        "\n",
        "dog_path = Path(\"/content/training_data/dogs/\") # / \"dogs\"\n",
        "\n",
        "print(dog_path)\n",
        "\n",
        "not_dog_path = Path(\"/content/training_data/not_dogs/\") # / \"not_dogs\"\n",
        "\n",
        "print(not_dog_path)\n",
        "\n",
        "# Declare arrays\n",
        "images = []\n",
        "labels = []\n",
        "\n"
      ],
      "metadata": {
        "colab": {
          "base_uri": "https://localhost:8080/"
        },
        "id": "GeuX_AxlgAm6",
        "outputId": "8b7a6f97-da43-4211-b11b-4ff616ff13c8"
      },
      "execution_count": 14,
      "outputs": [
        {
          "output_type": "stream",
          "name": "stdout",
          "text": [
            "/content/training_data/dogs\n",
            "/content/training_data/not_dogs\n"
          ]
        }
      ]
    },
    {
      "cell_type": "markdown",
      "source": [
        "### Load All No Dog Images"
      ],
      "metadata": {
        "id": "ldzHsThLOqWq"
      }
    },
    {
      "cell_type": "code",
      "source": [
        "# load not-dog images\n",
        "\n",
        "# print(\"Pre-Loop Execution\")\n",
        "for img_nd in not_dog_path.glob(\"*.png\"):\n",
        "\n",
        "  # remove ._ from file extension\n",
        "  img_nd = str(img_nd)\n",
        "  img_nd = img_nd.replace('._', \"\")\n",
        "\n",
        "  # Load image from disk storage\n",
        "  img_nd = tf.keras.utils.load_img(img_nd)\n",
        "\n",
        "  # Convert the image to a numpy array\n",
        "  image_array =  tf.keras.utils.img_to_array(img_nd)\n",
        "\n",
        "  # add image to list of images in the images array\n",
        "  images.append(image_array)\n",
        "\n",
        "  # for each \"not dog\" image, the expected value is zero\n",
        "  labels.append(0)\n",
        "\n",
        "  # print(img_nd)"
      ],
      "metadata": {
        "id": "9WZtiMFPOuLE"
      },
      "execution_count": 21,
      "outputs": []
    },
    {
      "cell_type": "markdown",
      "source": [
        "### Load all the dog images"
      ],
      "metadata": {
        "id": "q3YqxElQ2y53"
      }
    },
    {
      "cell_type": "code",
      "source": [
        "# load dog images\n",
        "for img_dog in dog_path.glob(\"*.png\"): \n",
        "\n",
        "  # remove ._ from file extension\n",
        "  img_dog = str(img_dog)\n",
        "  img_dog = img_dog.replace('._', \"\")\n",
        "\n",
        "  # Load image from disk storage\n",
        "  img_dog = tf.keras.utils.load_img(img_dog)\n",
        "\n",
        "  # Convert the image to a numpy array\n",
        "  image_array =  tf.keras.utils.img_to_array(img_dog)\n",
        "\n",
        "  # add image to list of images in the images array\n",
        "  images.append(image_array)\n",
        "\n",
        "  # for each \"not dog\" image, the expected value is zero\n",
        "  labels.append(1)\n",
        "\n",
        "# print(img_dog)"
      ],
      "metadata": {
        "id": "p6mmvQfV23Tu"
      },
      "execution_count": 22,
      "outputs": []
    },
    {
      "cell_type": "markdown",
      "source": [
        "### Create a simple numpy array with all inages we loaded"
      ],
      "metadata": {
        "id": "geaYWy-S3IQP"
      }
    },
    {
      "cell_type": "code",
      "source": [
        "array_count = np.count_nonzero(images)\n",
        "print(array_count)\n",
        "x_train = np.array(images)"
      ],
      "metadata": {
        "colab": {
          "base_uri": "https://localhost:8080/"
        },
        "id": "Tg1bcncE3Mql",
        "outputId": "dc462c8e-4aa0-4dc3-a3d5-47e02885fa87"
      },
      "execution_count": 23,
      "outputs": [
        {
          "output_type": "stream",
          "name": "stdout",
          "text": [
            "1402814\n"
          ]
        }
      ]
    },
    {
      "cell_type": "markdown",
      "source": [
        "### Also create a simple numpy array for the labels"
      ],
      "metadata": {
        "id": "2T9lc3M03cCj"
      }
    },
    {
      "cell_type": "code",
      "source": [
        "y_train = np.array(labels)"
      ],
      "metadata": {
        "id": "rZVYPjIm3h9y"
      },
      "execution_count": 24,
      "outputs": []
    },
    {
      "cell_type": "markdown",
      "source": [
        "### Normalize the image data to a 0 to 1 range"
      ],
      "metadata": {
        "id": "RSxtJzOb30bf"
      }
    },
    {
      "cell_type": "code",
      "source": [
        "x_train = vgg16.preprocess_input(x_train)"
      ],
      "metadata": {
        "id": "O-8BJEud399p"
      },
      "execution_count": 25,
      "outputs": []
    },
    {
      "cell_type": "markdown",
      "source": [
        "### Load a pre-trained neural network to use as a feature extractor"
      ],
      "metadata": {
        "id": "Rh0aA44RqPdK"
      }
    },
    {
      "cell_type": "code",
      "source": [
        "pretrained_nn = vgg16.VGG16(weights='imagenet', include_top=False, input_shape=(64, 64, 3)) "
      ],
      "metadata": {
        "colab": {
          "base_uri": "https://localhost:8080/"
        },
        "id": "MmGnC5RAqZvY",
        "outputId": "6be8c61a-4044-47d0-d448-98b5e1da6d5b"
      },
      "execution_count": 26,
      "outputs": [
        {
          "output_type": "stream",
          "name": "stdout",
          "text": [
            "Downloading data from https://storage.googleapis.com/tensorflow/keras-applications/vgg16/vgg16_weights_tf_dim_ordering_tf_kernels_notop.h5\n",
            "58889256/58889256 [==============================] - 0s 0us/step\n"
          ]
        }
      ]
    },
    {
      "cell_type": "markdown",
      "source": [
        "### Extract features for each image (All in one pass)"
      ],
      "metadata": {
        "id": "3ZVDWwnsrK_F"
      }
    },
    {
      "cell_type": "code",
      "source": [
        "features_x = pretrained_nn.predict(x_train) "
      ],
      "metadata": {
        "colab": {
          "base_uri": "https://localhost:8080/"
        },
        "id": "1mzQS2EsrW7_",
        "outputId": "6f4462e6-21cb-42da-ec8f-f54471f6bc2c"
      },
      "execution_count": 27,
      "outputs": [
        {
          "output_type": "stream",
          "name": "stdout",
          "text": [
            "4/4 [==============================] - 8s 2s/step\n"
          ]
        }
      ]
    },
    {
      "cell_type": "markdown",
      "source": [
        "### Save the array of the extracted features to a file"
      ],
      "metadata": {
        "id": "N-j3Nl7drtl7"
      }
    },
    {
      "cell_type": "code",
      "source": [
        "joblib.dump(features_x, \"x_train.dat\")"
      ],
      "metadata": {
        "colab": {
          "base_uri": "https://localhost:8080/"
        },
        "id": "_sVJGGwXsE-9",
        "outputId": "8a065fc3-9749-4429-e3dd-88a60df47c75"
      },
      "execution_count": 28,
      "outputs": [
        {
          "output_type": "execute_result",
          "data": {
            "text/plain": [
              "['x_train.dat']"
            ]
          },
          "metadata": {},
          "execution_count": 28
        }
      ]
    },
    {
      "cell_type": "markdown",
      "source": [
        "### Save the matching array of expected values to a file."
      ],
      "metadata": {
        "id": "2U5sD6WZsZSj"
      }
    },
    {
      "cell_type": "code",
      "source": [
        "joblib.dump(y_train, \"y_train.dat\")"
      ],
      "metadata": {
        "colab": {
          "base_uri": "https://localhost:8080/"
        },
        "id": "wBEdRZ-0sftN",
        "outputId": "c8bee701-cbd7-4c6c-b192-b67ed008ba53"
      },
      "execution_count": 29,
      "outputs": [
        {
          "output_type": "execute_result",
          "data": {
            "text/plain": [
              "['y_train.dat']"
            ]
          },
          "metadata": {},
          "execution_count": 29
        }
      ]
    }
  ]
}